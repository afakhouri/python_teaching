{
 "cells": [
  {
   "cell_type": "markdown",
   "metadata": {},
   "source": [
    "# Advanced Python features"
   ]
  },
  {
   "cell_type": "markdown",
   "metadata": {},
   "source": [
    "## 1. Built-in features: Lambda, Map, Filters, Zip, Generators"
   ]
  },
  {
   "cell_type": "markdown",
   "metadata": {},
   "source": [
    "### Lambda functions\n",
    "A Lambda Function is a small, anonymous function — anonymous, meaning here that it doesn't really have a name.\n",
    "Python functions are usually defined using the style of def XXX() , but with lambda functions we don’t need to give a name. Lambda functions are generally used to perform simple expressions / operations without the need of fully defining a new functions. \n",
    "\n",
    "A lambda function can take any number of arguments, but must always have only one expression."
   ]
  },
  {
   "cell_type": "code",
   "execution_count": 3,
   "metadata": {},
   "outputs": [
    {
     "name": "stdout",
     "output_type": "stream",
     "text": [
      "210\n",
      "8\n"
     ]
    }
   ],
   "source": [
    "x= lambda a, b, c : a * b *c\n",
    "print(x(5, 6, 7)) \n",
    "\n",
    "x = lambda a : a*2 + 2\n",
    "print(x(3))"
   ]
  },
  {
   "cell_type": "markdown",
   "metadata": {},
   "source": [
    "It is usually used to perform basic math operations, and allows to write simpler / cleaner python code."
   ]
  },
  {
   "cell_type": "markdown",
   "metadata": {},
   "source": [
    "### Map\n",
    "Map is a built-in Python function used to apply a function to a sequence of elements like a list or dictionary. It provides a more readable way to perform such an operation."
   ]
  },
  {
   "cell_type": "code",
   "execution_count": 12,
   "metadata": {},
   "outputs": [
    {
     "name": "stdout",
     "output_type": "stream",
     "text": [
      "<map object at 0x0000021619526A58>\n",
      "[1, 4, 9]\n",
      "<map object at 0x00000216195265F8>\n",
      "[2, 20, 56, 36]\n"
     ]
    }
   ],
   "source": [
    "def square_function(a):\n",
    "    return a * a\n",
    "\n",
    "x = map(square_function, [1, 2, 3])\n",
    "print(x) \n",
    "print(list(x))\n",
    "\n",
    "def item_item_multiplier(a, b):\n",
    "    return a * b\n",
    "\n",
    "x = map(item_item_multiplier, [1, 4, 7, 9], [2, 5, 8, 4])\n",
    "print(x)\n",
    "print(list(x))"
   ]
  },
  {
   "cell_type": "markdown",
   "metadata": {},
   "source": [
    "By using map we can apply our functions to a single list or multiple lists. Note that the map function returns a map object type. To display its content we need to convert it to a list."
   ]
  },
  {
   "cell_type": "markdown",
   "metadata": {},
   "source": [
    "### Filtering\n",
    "The filter built-in function is  similar to the Map function, it allows to apply a function to a sequence (list, tuple, dictionary). The key difference is that filter() will only returns the elements for which the applied function returns True."
   ]
  },
  {
   "cell_type": "code",
   "execution_count": 14,
   "metadata": {},
   "outputs": [
    {
     "name": "stdout",
     "output_type": "stream",
     "text": [
      "<filter object at 0x0000021619526860>\n",
      "[2, 4, 6, 8, 10, 12, 14]\n"
     ]
    }
   ],
   "source": [
    "# Our numbers\n",
    "numbers = [1, 2, 3, 4, 5, 6, 7, 8, 9, 10, 11, 12, 13, 14, 15]\n",
    "\n",
    "def filter_odd_numbers(num):\n",
    "    if num % 2 == 0:\n",
    "        return True\n",
    "    else:\n",
    "        return False\n",
    "\n",
    "filtered_numbers = filter(filter_odd_numbers, numbers)\n",
    "\n",
    "print(filtered_numbers)  \n",
    "print(list(filtered_numbers))"
   ]
  },
  {
   "cell_type": "markdown",
   "metadata": {},
   "source": [
    "The filtering function evaluates the output of the function on each item (True or False) and then returns the items of the list for which the function returns True. "
   ]
  },
  {
   "cell_type": "markdown",
   "metadata": {},
   "source": [
    "### Zip\n",
    "\n",
    "Zip makes an iterator that aggregates elements from each of the iterables.\n",
    "\n",
    "It returns an iterator of tuples, where the i-th tuple contains the i-th element from each of the argument sequences or iterables. The iterator stops when the shortest input iterable is exhausted. With a single iterable argument, it returns an iterator of 1-tuples"
   ]
  },
  {
   "cell_type": "code",
   "execution_count": 16,
   "metadata": {},
   "outputs": [
    {
     "data": {
      "text/plain": [
       "[(1, 4), (2, 5), (3, 6)]"
      ]
     },
     "execution_count": 16,
     "metadata": {},
     "output_type": "execute_result"
    }
   ],
   "source": [
    "x = [1, 2, 3]\n",
    "y = [4, 5, 6]\n",
    "zipped = zip(x, y)\n",
    "list(zipped)"
   ]
  },
  {
   "cell_type": "markdown",
   "metadata": {},
   "source": [
    "Zip is convenient to iterate over several lists in parallel. Zip is also frequently combined with the built-in function enumerate to iterate over two lists and their indices:"
   ]
  },
  {
   "cell_type": "code",
   "execution_count": 18,
   "metadata": {},
   "outputs": [
    {
     "name": "stdout",
     "output_type": "stream",
     "text": [
      "0 a1 b1\n",
      "1 a2 b2\n",
      "2 a3 b3\n"
     ]
    }
   ],
   "source": [
    "alist = ['a1', 'a2', 'a3']\n",
    "blist = ['b1', 'b2', 'b3']\n",
    "\n",
    "for i, (a, b) in enumerate(zip(alist, blist)):\n",
    "    print(i, a, b)"
   ]
  },
  {
   "cell_type": "markdown",
   "metadata": {},
   "source": [
    "### Generators\n",
    "\n",
    "#### How to create a generator in Python?\n",
    "\n",
    "Python generators are a simple way of creating iterators. A simple definition of generator is a function that returns an object (iterator) which we can iterate over (one value at a time)\n",
    "\n",
    "Creating a python generator is as easy as defining a normal function with yield statement instead of a return statement.\n",
    "\n",
    "If a function contains at least one yield statement (it may contain other yield or return statements), it becomes a generator function. Both yield and return will return some value from a function. The difference is that, while a return statement terminates a function entirely, yield statement pauses the function saving all its states and later continues from there on successive calls.\n",
    "\n",
    "#### Differences between Generator function and a Normal function\n",
    "\n",
    "- Generator function contains one or more yield statement.\n",
    "- Generators return an object (iterator) but does not start execution immediately.\n",
    "- Once the function yields, the function is paused and the control is transferred to the caller.\n",
    "- Local variables and their states are remembered between successive calls.\n",
    "- When the function terminates, StopIteration is raised automatically on further calls."
   ]
  },
  {
   "cell_type": "code",
   "execution_count": 3,
   "metadata": {},
   "outputs": [
    {
     "name": "stdout",
     "output_type": "stream",
     "text": [
      "First print\n",
      "<generator object my_generator at 0x000002700ED6B8B8>\n",
      "Second print\n",
      "<generator object my_generator at 0x000002700ED6B8B8>\n",
      "Third print\n",
      "<generator object my_generator at 0x000002700ED6B8B8>\n"
     ]
    }
   ],
   "source": [
    "def my_generator():\n",
    "    n = 10\n",
    "    print('First print')\n",
    "    # Generator function contains yield statements\n",
    "    yield n\n",
    "\n",
    "    n += 1\n",
    "    print('Second print')\n",
    "    yield n\n",
    "\n",
    "    n += 1\n",
    "    print('Third print')\n",
    "    yield n\n",
    "    \n",
    "x=my_generator()\n",
    "list(x)\n",
    "\n",
    "    "
   ]
  },
  {
   "cell_type": "markdown",
   "metadata": {},
   "source": [
    "Generators allow interactive run of functions"
   ]
  },
  {
   "cell_type": "code",
   "execution_count": 4,
   "metadata": {},
   "outputs": [
    {
     "name": "stdout",
     "output_type": "stream",
     "text": [
      "First print\n"
     ]
    },
    {
     "data": {
      "text/plain": [
       "10"
      ]
     },
     "execution_count": 4,
     "metadata": {},
     "output_type": "execute_result"
    }
   ],
   "source": [
    "x=my_generator()\n",
    "next(x)"
   ]
  },
  {
   "cell_type": "code",
   "execution_count": 5,
   "metadata": {},
   "outputs": [
    {
     "name": "stdout",
     "output_type": "stream",
     "text": [
      "Second print\n"
     ]
    },
    {
     "data": {
      "text/plain": [
       "11"
      ]
     },
     "execution_count": 5,
     "metadata": {},
     "output_type": "execute_result"
    }
   ],
   "source": [
    "next(x)"
   ]
  },
  {
   "cell_type": "code",
   "execution_count": 6,
   "metadata": {},
   "outputs": [
    {
     "name": "stdout",
     "output_type": "stream",
     "text": [
      "Third print\n"
     ]
    },
    {
     "data": {
      "text/plain": [
       "12"
      ]
     },
     "execution_count": 6,
     "metadata": {},
     "output_type": "execute_result"
    }
   ],
   "source": [
    "next(x)"
   ]
  },
  {
   "cell_type": "markdown",
   "metadata": {},
   "source": [
    "We note that the value of variable n is remembered between each call. Unlike normal functions, the local variables are not destroyed when the function yields.\n",
    "\n",
    "We can also use generators with for loops directly:"
   ]
  },
  {
   "cell_type": "code",
   "execution_count": 7,
   "metadata": {},
   "outputs": [
    {
     "name": "stdout",
     "output_type": "stream",
     "text": [
      "First print\n",
      "10\n",
      "Second print\n",
      "11\n",
      "Third print\n",
      "12\n"
     ]
    }
   ],
   "source": [
    "for z in my_generator():\n",
    "    print(z)"
   ]
  },
  {
   "cell_type": "markdown",
   "metadata": {},
   "source": [
    "#### One of the main reasons Generators are used is that they are simple to implement, they make Python code faster, and they reduce memory usage. Below an example."
   ]
  },
  {
   "cell_type": "markdown",
   "metadata": {},
   "source": [
    "#### Normal approach to check even numbers"
   ]
  },
  {
   "cell_type": "code",
   "execution_count": 8,
   "metadata": {},
   "outputs": [
    {
     "name": "stderr",
     "output_type": "stream",
     "text": [
      "C:\\ProgramData\\Anaconda3\\lib\\site-packages\\ipykernel_launcher.py:12: DeprecationWarning: time.clock has been deprecated in Python 3.3 and will be removed from Python 3.8: use time.perf_counter or time.process_time instead\n",
      "  if sys.path[0] == '':\n"
     ]
    },
    {
     "name": "stdout",
     "output_type": "stream",
     "text": [
      "It took 7.028311000000031 Secs and 965.82421875 Mb to execute this method\n"
     ]
    },
    {
     "name": "stderr",
     "output_type": "stream",
     "text": [
      "C:\\ProgramData\\Anaconda3\\lib\\site-packages\\ipykernel_launcher.py:14: DeprecationWarning: time.clock has been deprecated in Python 3.3 and will be removed from Python 3.8: use time.perf_counter or time.process_time instead\n",
      "  \n"
     ]
    }
   ],
   "source": [
    "import memory_profiler\n",
    "import time\n",
    "def check_even(numbers):\n",
    "    even = []\n",
    "    for num in numbers:\n",
    "        if num % 2 == 0: \n",
    "            even.append(num*num)\n",
    "            \n",
    "    return even\n",
    "if __name__ == '__main__':\n",
    "    m1 = memory_profiler.memory_usage()\n",
    "    t1 = time.clock()\n",
    "    cubes = check_even(range(50000000))\n",
    "    t2 = time.clock()\n",
    "    m2 = memory_profiler.memory_usage()\n",
    "    time_diff = t2 - t1\n",
    "    mem_diff = m2[0] - m1[0]\n",
    "    print(f\"It took {time_diff} Secs and {mem_diff} Mb to execute this method\")"
   ]
  },
  {
   "cell_type": "markdown",
   "metadata": {},
   "source": [
    "#### Using Generators "
   ]
  },
  {
   "cell_type": "code",
   "execution_count": 13,
   "metadata": {},
   "outputs": [
    {
     "name": "stdout",
     "output_type": "stream",
     "text": [
      "It took 3.8499999845953425e-05 Secs and 0.0 Mb to execute this method\n"
     ]
    },
    {
     "name": "stderr",
     "output_type": "stream",
     "text": [
      "C:\\ProgramData\\Anaconda3\\lib\\site-packages\\ipykernel_launcher.py:10: DeprecationWarning: time.clock has been deprecated in Python 3.3 and will be removed from Python 3.8: use time.perf_counter or time.process_time instead\n",
      "  # Remove the CWD from sys.path while we load stuff.\n",
      "C:\\ProgramData\\Anaconda3\\lib\\site-packages\\ipykernel_launcher.py:12: DeprecationWarning: time.clock has been deprecated in Python 3.3 and will be removed from Python 3.8: use time.perf_counter or time.process_time instead\n",
      "  if sys.path[0] == '':\n"
     ]
    }
   ],
   "source": [
    "import memory_profiler\n",
    "import time\n",
    "def check_even(numbers):\n",
    "    for num in numbers:\n",
    "        if num % 2 == 0:\n",
    "            yield num * num \n",
    "    \n",
    "if __name__ == '__main__':\n",
    "    m1 = memory_profiler.memory_usage()\n",
    "    t1 = time.clock()\n",
    "    cubes = check_even(range(50000000))\n",
    "    t2 = time.clock()\n",
    "    m2 = memory_profiler.memory_usage()\n",
    "    time_diff = t2 - t1\n",
    "    mem_diff = m2[0] - m1[0]\n",
    "    print(f\"It took {time_diff} Secs and {mem_diff} Mb to execute this method\")"
   ]
  },
  {
   "cell_type": "markdown",
   "metadata": {},
   "source": [
    "## 2. Importing financial data from Google, Bloomberg, or Quandl"
   ]
  },
  {
   "cell_type": "markdown",
   "metadata": {},
   "source": [
    "### Importing data from Quandl\n",
    "\n",
    "Quandl (https://www.quandl.com/) is a marketplace for economic and financial data. It contains a wide range of historical time series on most asset classes (Equity, Fixed Income, Commodities), as well as economic / alternative data. A Python API is available in order to directly pull data from Quandl.\n",
    "\n",
    "Once you have created an account and got you account key, you just need to know the ticker of the underlying you need the data from. The python code would look like:"
   ]
  },
  {
   "cell_type": "code",
   "execution_count": 7,
   "metadata": {},
   "outputs": [
    {
     "data": {
      "text/html": [
       "<div>\n",
       "<style scoped>\n",
       "    .dataframe tbody tr th:only-of-type {\n",
       "        vertical-align: middle;\n",
       "    }\n",
       "\n",
       "    .dataframe tbody tr th {\n",
       "        vertical-align: top;\n",
       "    }\n",
       "\n",
       "    .dataframe thead th {\n",
       "        text-align: right;\n",
       "    }\n",
       "</style>\n",
       "<table border=\"1\" class=\"dataframe\">\n",
       "  <thead>\n",
       "    <tr style=\"text-align: right;\">\n",
       "      <th></th>\n",
       "      <th>Open</th>\n",
       "      <th>High</th>\n",
       "      <th>Low</th>\n",
       "      <th>Close</th>\n",
       "      <th>Volume</th>\n",
       "      <th>Dividend</th>\n",
       "      <th>Split</th>\n",
       "      <th>Adj_Open</th>\n",
       "      <th>Adj_High</th>\n",
       "      <th>Adj_Low</th>\n",
       "      <th>Adj_Close</th>\n",
       "      <th>Adj_Volume</th>\n",
       "    </tr>\n",
       "    <tr>\n",
       "      <th>Date</th>\n",
       "      <th></th>\n",
       "      <th></th>\n",
       "      <th></th>\n",
       "      <th></th>\n",
       "      <th></th>\n",
       "      <th></th>\n",
       "      <th></th>\n",
       "      <th></th>\n",
       "      <th></th>\n",
       "      <th></th>\n",
       "      <th></th>\n",
       "      <th></th>\n",
       "    </tr>\n",
       "  </thead>\n",
       "  <tbody>\n",
       "    <tr>\n",
       "      <th>2013-09-03</th>\n",
       "      <td>61.42</td>\n",
       "      <td>61.990</td>\n",
       "      <td>60.60</td>\n",
       "      <td>60.93</td>\n",
       "      <td>7016400.0</td>\n",
       "      <td>0.0</td>\n",
       "      <td>1.0</td>\n",
       "      <td>55.850686</td>\n",
       "      <td>56.369001</td>\n",
       "      <td>55.105040</td>\n",
       "      <td>55.405117</td>\n",
       "      <td>7016400.0</td>\n",
       "    </tr>\n",
       "    <tr>\n",
       "      <th>2013-09-04</th>\n",
       "      <td>60.92</td>\n",
       "      <td>61.220</td>\n",
       "      <td>60.52</td>\n",
       "      <td>61.11</td>\n",
       "      <td>14014600.0</td>\n",
       "      <td>0.0</td>\n",
       "      <td>1.0</td>\n",
       "      <td>55.396024</td>\n",
       "      <td>55.668821</td>\n",
       "      <td>55.032294</td>\n",
       "      <td>55.568796</td>\n",
       "      <td>14014600.0</td>\n",
       "    </tr>\n",
       "    <tr>\n",
       "      <th>2013-09-05</th>\n",
       "      <td>61.07</td>\n",
       "      <td>61.600</td>\n",
       "      <td>60.96</td>\n",
       "      <td>61.30</td>\n",
       "      <td>6356600.0</td>\n",
       "      <td>0.0</td>\n",
       "      <td>1.0</td>\n",
       "      <td>55.532423</td>\n",
       "      <td>56.014364</td>\n",
       "      <td>55.432397</td>\n",
       "      <td>55.741567</td>\n",
       "      <td>6356600.0</td>\n",
       "    </tr>\n",
       "    <tr>\n",
       "      <th>2013-09-06</th>\n",
       "      <td>61.47</td>\n",
       "      <td>61.830</td>\n",
       "      <td>60.63</td>\n",
       "      <td>61.39</td>\n",
       "      <td>7319400.0</td>\n",
       "      <td>0.0</td>\n",
       "      <td>1.0</td>\n",
       "      <td>55.896152</td>\n",
       "      <td>56.223509</td>\n",
       "      <td>55.132320</td>\n",
       "      <td>55.823406</td>\n",
       "      <td>7319400.0</td>\n",
       "    </tr>\n",
       "    <tr>\n",
       "      <th>2013-09-09</th>\n",
       "      <td>61.60</td>\n",
       "      <td>61.835</td>\n",
       "      <td>61.27</td>\n",
       "      <td>61.59</td>\n",
       "      <td>7224500.0</td>\n",
       "      <td>0.0</td>\n",
       "      <td>1.0</td>\n",
       "      <td>56.014364</td>\n",
       "      <td>56.228056</td>\n",
       "      <td>55.714288</td>\n",
       "      <td>56.005271</td>\n",
       "      <td>7224500.0</td>\n",
       "    </tr>\n",
       "  </tbody>\n",
       "</table>\n",
       "</div>"
      ],
      "text/plain": [
       "             Open    High    Low  Close      Volume  Dividend  Split  \\\n",
       "Date                                                                   \n",
       "2013-09-03  61.42  61.990  60.60  60.93   7016400.0       0.0    1.0   \n",
       "2013-09-04  60.92  61.220  60.52  61.11  14014600.0       0.0    1.0   \n",
       "2013-09-05  61.07  61.600  60.96  61.30   6356600.0       0.0    1.0   \n",
       "2013-09-06  61.47  61.830  60.63  61.39   7319400.0       0.0    1.0   \n",
       "2013-09-09  61.60  61.835  61.27  61.59   7224500.0       0.0    1.0   \n",
       "\n",
       "             Adj_Open   Adj_High    Adj_Low  Adj_Close  Adj_Volume  \n",
       "Date                                                                \n",
       "2013-09-03  55.850686  56.369001  55.105040  55.405117   7016400.0  \n",
       "2013-09-04  55.396024  55.668821  55.032294  55.568796  14014600.0  \n",
       "2013-09-05  55.532423  56.014364  55.432397  55.741567   6356600.0  \n",
       "2013-09-06  55.896152  56.223509  55.132320  55.823406   7319400.0  \n",
       "2013-09-09  56.014364  56.228056  55.714288  56.005271   7224500.0  "
      ]
     },
     "execution_count": 7,
     "metadata": {},
     "output_type": "execute_result"
    }
   ],
   "source": [
    "import quandl\n",
    "df=quandl.get(\"EOD/DIS\", authtoken=\"zbzphcQYstaEEmzXfs_F\")\n",
    "df.head(5)"
   ]
  },
  {
   "cell_type": "code",
   "execution_count": 14,
   "metadata": {},
   "outputs": [
    {
     "data": {
      "text/plain": [
       "<matplotlib.axes._subplots.AxesSubplot at 0x241823d7470>"
      ]
     },
     "execution_count": 14,
     "metadata": {},
     "output_type": "execute_result"
    },
    {
     "data": {
      "image/png": "[encoded data removed]",
      "text/plain": [
       "<Figure size 432x288 with 1 Axes>"
      ]
     },
     "metadata": {
      "needs_background": "light"
     },
     "output_type": "display_data"
    }
   ],
   "source": [
    "df[\"Close\"].plot( title=\"Historical Close\")"
   ]
  },
  {
   "cell_type": "code",
   "execution_count": 15,
   "metadata": {},
   "outputs": [
    {
     "data": {
      "text/plain": [
       "<matplotlib.axes._subplots.AxesSubplot at 0x24183e053c8>"
      ]
     },
     "execution_count": 15,
     "metadata": {},
     "output_type": "execute_result"
    },
    {
     "data": {
      "image/png": "[encoded data removed]",
      "text/plain": [
       "<Figure size 432x288 with 1 Axes>"
      ]
     },
     "metadata": {
      "needs_background": "light"
     },
     "output_type": "display_data"
    }
   ],
   "source": [
    "df[\"Volume\"].plot( title=\"Historical Volume\")"
   ]
  },
  {
   "cell_type": "markdown",
   "metadata": {},
   "source": [
    "### Importing data from Bloomberg\n",
    "\n",
    "Python API for Bloomberg actually calls the C++ API, so it is required to install both a Python package and the C++ SDK which is available here:\n",
    "\n",
    "https://www.bloomberg.com/professional/support/api-library/\n",
    "\n",
    "On Python package side, the official package is named blpapi, but other packages such as  pdblp allow to retrieve Bloomberg data in a simple way:\n",
    "\n",
    "https://pypi.org/project/pdblp/\n",
    "\n",
    "https://matthewgilbert.github.io/pdblp/tutorial.html\n",
    "\n"
   ]
  },
  {
   "cell_type": "code",
   "execution_count": 15,
   "metadata": {},
   "outputs": [
    {
     "data": {
      "text/html": [
       "<div>\n",
       "<style scoped>\n",
       "    .dataframe tbody tr th:only-of-type {\n",
       "        vertical-align: middle;\n",
       "    }\n",
       "\n",
       "    .dataframe tbody tr th {\n",
       "        vertical-align: top;\n",
       "    }\n",
       "\n",
       "    .dataframe thead th {\n",
       "        text-align: right;\n",
       "    }\n",
       "</style>\n",
       "<table border=\"1\" class=\"dataframe\">\n",
       "  <thead>\n",
       "    <tr style=\"text-align: right;\">\n",
       "      <th></th>\n",
       "      <th>ticker</th>\n",
       "      <th>field</th>\n",
       "      <th>value</th>\n",
       "    </tr>\n",
       "  </thead>\n",
       "  <tbody>\n",
       "    <tr>\n",
       "      <th>0</th>\n",
       "      <td>CAXA2E1 CMAN Curncy</td>\n",
       "      <td>5Y_ASK_CDS_SPREAD</td>\n",
       "      <td>160.3841</td>\n",
       "    </tr>\n",
       "  </tbody>\n",
       "</table>\n",
       "</div>"
      ],
      "text/plain": [
       "                ticker              field     value\n",
       "0  CAXA2E1 CMAN Curncy  5Y_ASK_CDS_SPREAD  160.3841"
      ]
     },
     "execution_count": 15,
     "metadata": {},
     "output_type": "execute_result"
    }
   ],
   "source": [
    "import pdblp\n",
    "import pandas as pd\n",
    "con = pdblp.BCon().start()\n",
    "\n",
    "#df_db=pd.DataFrame(columns=[\"Date\", \"Underlying\", \"Instrument\", \"Ticker\", \"Field\", \"Value\"])\n",
    "\n",
    "ticker='CAXA2E1 CMAN Curncy'\n",
    "field=\"5Y_ASK_CDS_SPREAD\"\n",
    "x=con.ref(ticker, field)\n",
    "x"
   ]
  },
  {
   "cell_type": "code",
   "execution_count": 17,
   "metadata": {},
   "outputs": [
    {
     "name": "stdout",
     "output_type": "stream",
     "text": [
      "Index(['date', 'ticker', 'field', 'value'], dtype='object')\n"
     ]
    },
    {
     "data": {
      "text/plain": [
       "<matplotlib.axes._subplots.AxesSubplot at 0x27010c7bd68>"
      ]
     },
     "execution_count": 17,
     "metadata": {},
     "output_type": "execute_result"
    },
    {
     "data": {
      "image/png": "[encoded data removed]",
      "text/plain": [
       "<Figure size 432x288 with 1 Axes>"
      ]
     },
     "metadata": {
      "needs_background": "light"
     },
     "output_type": "display_data"
    }
   ],
   "source": [
    "underlying='SPY US Equity'\n",
    "underlying='SPX Index'\n",
    "x=con.bdh(underlying, 'PX_LAST','20150629', '20200331', longdata=True)\n",
    "print(x.columns)\n",
    "x[\"value\"].plot( title=\"Historical Price of \"+underlying)\n",
    "#x.to_csv(\"SP500.csv\")"
   ]
  },
  {
   "cell_type": "markdown",
   "metadata": {},
   "source": [
    "### Importing data from Google finance"
   ]
  },
  {
   "cell_type": "markdown",
   "metadata": {},
   "source": [
    "We will directly use here a package called pandas_reader which allows to retrieve a pandas dataframe from a specificed ticker / source. Some examples of sources are available here:\n",
    "\n",
    "https://pandas-datareader.readthedocs.io/en/latest/remote_data.html#moex-data\n",
    "\n",
    "https://finance.yahoo.com/quote/%5EDJI/\n",
    "\n",
    "For Google Finance data, you will need to use the 'stooq' source."
   ]
  },
  {
   "cell_type": "code",
   "execution_count": 73,
   "metadata": {},
   "outputs": [
    {
     "name": "stdout",
     "output_type": "stream",
     "text": [
      "Empty DataFrame\n",
      "Columns: []\n",
      "Index: []\n"
     ]
    }
   ],
   "source": [
    "import pandas as pd\n",
    "# package to extract data from various Internet sources into a DataFrame\n",
    "# make sure you have it installed\n",
    "#from pandas_datareader import data, wb\n",
    "import pandas_datareader.data as web\n",
    "\n",
    "# package for dates\n",
    "import datetime as dt\n",
    "\n",
    "ticker=\"^FCHI\"\n",
    "f = web.DataReader(ticker, 'stooq')\n",
    "print(f.head(5))\n",
    "#f[\"Close\"].plot(title=\"Historical Close\")"
   ]
  },
  {
   "cell_type": "markdown",
   "metadata": {},
   "source": [
    "## 3. Building Interactive Dashboards in Jupyter"
   ]
  },
  {
   "cell_type": "markdown",
   "metadata": {},
   "source": [
    "Interactive dashboards in Jupyter can be achievied by using the ipywidgets module. Widgets are eventful python objects that have a representation in the browser, often as a control like a slider, textbox, etc."
   ]
  },
  {
   "cell_type": "code",
   "execution_count": null,
   "metadata": {},
   "outputs": [],
   "source": [
    "import sys\n",
    "!{sys.executable} -m pip install ipywidgets\n",
    "#jupyter nbextension enable --py --sys-prefix widgetsnbextension  # can be skipped for notebook version 5.3 and above"
   ]
  },
  {
   "cell_type": "markdown",
   "metadata": {},
   "source": [
    "To use the widget framework, you need to import ipywidgets."
   ]
  },
  {
   "cell_type": "code",
   "execution_count": 18,
   "metadata": {},
   "outputs": [],
   "source": [
    "import ipywidgets as widgets"
   ]
  },
  {
   "cell_type": "markdown",
   "metadata": {},
   "source": [
    "Widgets have their own display repr which allows them to be displayed using IPython's display framework. Constructing and returning an IntSlider automatically displays the widget (as seen below). Widgets are displayed inside the output area below the code cell. Clearing cell output will also remove the widget."
   ]
  },
  {
   "cell_type": "code",
   "execution_count": 19,
   "metadata": {},
   "outputs": [
    {
     "data": {
      "application/vnd.jupyter.widget-view+json": {
       "model_id": "456bfc1d9c434099aa0b10dd0bbe9dd1",
       "version_major": 2,
       "version_minor": 0
      },
      "text/plain": [
       "IntSlider(value=0)"
      ]
     },
     "metadata": {},
     "output_type": "display_data"
    }
   ],
   "source": [
    "widgets.IntSlider()"
   ]
  },
  {
   "cell_type": "code",
   "execution_count": 21,
   "metadata": {},
   "outputs": [
    {
     "data": {
      "application/vnd.jupyter.widget-view+json": {
       "model_id": "db0c633528614cab8d00f9bd14814af3",
       "version_major": 2,
       "version_minor": 0
      },
      "text/plain": [
       "IntSlider(value=0)"
      ]
     },
     "metadata": {},
     "output_type": "display_data"
    }
   ],
   "source": [
    "from IPython.display import display\n",
    "w = widgets.IntSlider()\n",
    "display(w)"
   ]
  },
  {
   "cell_type": "markdown",
   "metadata": {},
   "source": [
    "#### Widget properties"
   ]
  },
  {
   "cell_type": "code",
   "execution_count": 22,
   "metadata": {},
   "outputs": [
    {
     "data": {
      "application/vnd.jupyter.widget-view+json": {
       "model_id": "6c720a71643445698545b070a1c79d7e",
       "version_major": 2,
       "version_minor": 0
      },
      "text/plain": [
       "IntSlider(value=0)"
      ]
     },
     "metadata": {},
     "output_type": "display_data"
    }
   ],
   "source": [
    "w = widgets.IntSlider()\n",
    "display(w)\n",
    "w.value\n",
    "w.value = 100"
   ]
  },
  {
   "cell_type": "code",
   "execution_count": 66,
   "metadata": {},
   "outputs": [
    {
     "data": {
      "text/plain": [
       "['_dom_classes',\n",
       " '_model_module',\n",
       " '_model_module_version',\n",
       " '_model_name',\n",
       " '_view_count',\n",
       " '_view_module',\n",
       " '_view_module_version',\n",
       " '_view_name',\n",
       " 'continuous_update',\n",
       " 'description',\n",
       " 'description_tooltip',\n",
       " 'disabled',\n",
       " 'layout',\n",
       " 'max',\n",
       " 'min',\n",
       " 'orientation',\n",
       " 'readout',\n",
       " 'readout_format',\n",
       " 'step',\n",
       " 'style',\n",
       " 'value']"
      ]
     },
     "execution_count": 66,
     "metadata": {},
     "output_type": "execute_result"
    }
   ],
   "source": [
    "w.keys"
   ]
  },
  {
   "cell_type": "markdown",
   "metadata": {},
   "source": [
    "#### Generating a text widget"
   ]
  },
  {
   "cell_type": "code",
   "execution_count": 23,
   "metadata": {},
   "outputs": [
    {
     "data": {
      "application/vnd.jupyter.widget-view+json": {
       "model_id": "ced7327dd38046c6934d19ba2997f7d3",
       "version_major": 2,
       "version_minor": 0
      },
      "text/plain": [
       "Text(value='Hello World!')"
      ]
     },
     "metadata": {},
     "output_type": "display_data"
    }
   ],
   "source": [
    "widgets.Text(value='Hello World!', disabled=False)"
   ]
  },
  {
   "cell_type": "markdown",
   "metadata": {},
   "source": [
    "#### Example: displaying a parametric function"
   ]
  },
  {
   "cell_type": "code",
   "execution_count": 24,
   "metadata": {},
   "outputs": [
    {
     "data": {
      "application/vnd.jupyter.widget-view+json": {
       "model_id": "4f8f06888b9b4a7fb8d3ffc560944c3f",
       "version_major": 2,
       "version_minor": 0
      },
      "text/plain": [
       "interactive(children=(IntSlider(value=5, description='a', max=10), IntSlider(value=5, description='b', max=10)…"
      ]
     },
     "metadata": {},
     "output_type": "display_data"
    }
   ],
   "source": [
    "import matplotlib.pyplot as plt\n",
    "import math\n",
    "import scipy.stats\n",
    "from ipywidgets import interactive\n",
    "import ipywidgets as widgets\n",
    "\n",
    "\n",
    "def fexp(a,b,c,x):\n",
    "    return a+b*x+c*x*x\n",
    "\n",
    "\n",
    "def plotfunc(a, b, c):\n",
    "    xrange=range(0,50)\n",
    "    prices=[fexp(a,b,c,x) for x in xrange]\n",
    "    plt.figure(figsize=(8,5)) # Initiate the graph\n",
    "    plt.plot(xrange, prices, c='k', lw=3)\n",
    "    plt.grid(True)\n",
    "    plt.show()\n",
    "\n",
    "y=interactive(plotfunc, a=(0, 10, 1), b=(0, 10, 1), c=(0, 10, 1))\n",
    "\n",
    "display(y)"
   ]
  }
 ],
 "metadata": {
  "kernelspec": {
   "display_name": "Python 3",
   "language": "python",
   "name": "python3"
  },
  "language_info": {
   "codemirror_mode": {
    "name": "ipython",
    "version": 3
   },
   "file_extension": ".py",
   "mimetype": "text/x-python",
   "name": "python",
   "nbconvert_exporter": "python",
   "pygments_lexer": "ipython3",
   "version": "3.7.1"
  }
 },
 "nbformat": 4,
 "nbformat_minor": 2
}
