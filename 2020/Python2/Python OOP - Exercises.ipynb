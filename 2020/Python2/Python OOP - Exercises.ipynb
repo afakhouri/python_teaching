{
 "cells": [
  {
   "cell_type": "markdown",
   "metadata": {},
   "source": [
    "# Exercises - Object Oriented Programming (OOP) with Python"
   ]
  },
  {
   "cell_type": "markdown",
   "metadata": {},
   "source": [
    "### Exercise #1\n",
    " Write a Python class to converts an integer to a string"
   ]
  },
  {
   "cell_type": "code",
   "execution_count": 4,
   "metadata": {
    "hideCode": true,
    "hideOutput": true
   },
   "outputs": [
    {
     "data": {
      "text/plain": [
       "'10'"
      ]
     },
     "execution_count": 4,
     "metadata": {},
     "output_type": "execute_result"
    }
   ],
   "source": [
    "class ex_1:\n",
    "    def __init__(self, n):\n",
    "        self.value=n\n",
    "    def convert_to_string(self):\n",
    "        return str(self.value)\n",
    "    \n",
    "x=ex_1(10)\n",
    "y=x.convert_to_string()\n",
    "y"
   ]
  },
  {
   "cell_type": "markdown",
   "metadata": {},
   "source": [
    "### Exercise #2\n",
    "Write a Python class to reverse a string word by word"
   ]
  },
  {
   "cell_type": "code",
   "execution_count": 1,
   "metadata": {
    "hideCode": true
   },
   "outputs": [
    {
     "data": {
      "text/plain": [
       "'Is Name My'"
      ]
     },
     "execution_count": 1,
     "metadata": {},
     "output_type": "execute_result"
    }
   ],
   "source": [
    "class sentence:\n",
    "    def __init__(self, s):\n",
    "        self.value=s\n",
    "    def reverse_words(self):\n",
    "        return ' '.join(reversed(self.value.split()))\n",
    "\n",
    "\n",
    "x=sentence(\"My Name Is\")\n",
    "x.reverse_words()"
   ]
  },
  {
   "cell_type": "markdown",
   "metadata": {},
   "source": [
    "### Exercise #3\n",
    "Write a Python class named Circle constructed by a radius and two methods which will compute the area and the perimeter of a circle"
   ]
  },
  {
   "cell_type": "code",
   "execution_count": 2,
   "metadata": {
    "hideCode": true
   },
   "outputs": [
    {
     "name": "stdout",
     "output_type": "stream",
     "text": [
      "314.0\n",
      "62.800000000000004\n"
     ]
    }
   ],
   "source": [
    "class Circle():\n",
    "    def __init__(self, r):\n",
    "        self.radius = r\n",
    "\n",
    "    def compute_area(self):\n",
    "        return self.radius**2*3.14\n",
    "    \n",
    "    def compute_perimeter(self):\n",
    "        return 2*self.radius*3.14\n",
    "\n",
    "NewCircle = Circle(10)\n",
    "print(NewCircle.compute_area())\n",
    "print(NewCircle.compute_perimeter())"
   ]
  },
  {
   "cell_type": "markdown",
   "metadata": {},
   "source": [
    "### Exercise #4\n",
    "\n",
    "Write the definition of a Point class. Objects from this class should have a:\n",
    "a method show to display the coordinates of the point\n",
    "a method move to change these coordinates.\n",
    "a method dist that computes the distance between 2 points.\n",
    "\n",
    "The distance between two points A and B is defined by:\n",
    "\n",
    "$d(AB)=\\sqrt{(x1−x0)^{2}+(y1−y0)^{2}}$\n"
   ]
  },
  {
   "cell_type": "code",
   "execution_count": 4,
   "metadata": {
    "hideCode": true
   },
   "outputs": [],
   "source": [
    "import math\n",
    "\n",
    "class Point(object):\n",
    "    def __init__(self, x, y):\n",
    "        self.x = x #value of x-axis\n",
    "        self.y = y # value of y axis\n",
    "\n",
    "\n",
    "    def show(self):\n",
    "        return self.x, self.y # returns the coordinates\n",
    "\n",
    "\n",
    "    def move(self, x, y):\n",
    "        self.x += x\n",
    "        self.y += y\n",
    "\n",
    "\n",
    "    def dist(self, pt):\n",
    "        dx = pt.x - self.x\n",
    "        dy = pt.y - self.y\n",
    "        return math.sqrt(dx ** 2 + dy ** 2)"
   ]
  },
  {
   "cell_type": "code",
   "execution_count": 5,
   "metadata": {
    "hideCode": true
   },
   "outputs": [
    {
     "name": "stdout",
     "output_type": "stream",
     "text": [
      "(3, 3)\n",
      "(2, 3)\n",
      "1.0\n",
      "(13, -7)\n",
      "(2, 3)\n",
      "14.866068747318506\n"
     ]
    }
   ],
   "source": [
    "p1 = Point(3, 3)\n",
    "p2 = Point(2, 3)\n",
    "print(p1.show())\n",
    "print(p2.show())\n",
    "print(p1.dist(p2))\n",
    "p1.move(10, -10)\n",
    "print(p1.show())\n",
    "print(p2.show())\n",
    "print(p1.dist(p2))"
   ]
  },
  {
   "cell_type": "markdown",
   "metadata": {},
   "source": [
    "### Exercise #5\n",
    "Write a Python class to implement pow(x, n) without using the operator **"
   ]
  },
  {
   "cell_type": "code",
   "execution_count": 30,
   "metadata": {
    "hideCode": true
   },
   "outputs": [
    {
     "data": {
      "text/plain": [
       "64"
      ]
     },
     "execution_count": 30,
     "metadata": {},
     "output_type": "execute_result"
    }
   ],
   "source": [
    "class power_object:\n",
    "    def __init__(self):\n",
    "        pass\n",
    "        \n",
    "    def pow(self, x, n):\n",
    "        if x==0 or x==1 or n==1:\n",
    "            return x \n",
    "\n",
    "        if x==-1:\n",
    "            if n%2 ==0:\n",
    "                return 1\n",
    "            else:\n",
    "                return -1\n",
    "        if n==0:\n",
    "            return 1\n",
    "        if n<0:\n",
    "            return 1/self.pow(x,-n)\n",
    "        val = self.pow(x,n//2)\n",
    "        if n%2 ==0:\n",
    "            return val*val\n",
    "        return val*val*x\n",
    "    \n",
    "x=power_object()\n",
    "x.pow(2,6)"
   ]
  },
  {
   "cell_type": "markdown",
   "metadata": {},
   "source": [
    "###  Exercise #6\n",
    "Build a class call_option which has a method value to compute the price of a call option"
   ]
  },
  {
   "cell_type": "code",
   "execution_count": 39,
   "metadata": {
    "hideCode": true
   },
   "outputs": [
    {
     "name": "stdout",
     "output_type": "stream",
     "text": [
      "8.433318690109608\n",
      "0.5596176923702425\n"
     ]
    }
   ],
   "source": [
    "from math import log, sqrt, exp\n",
    "from scipy import stats\n",
    "\n",
    "class call_option(object):\n",
    "    def __init__(self, S0, K, T, r, sigma):\n",
    "        self.S0 = float(S0)\n",
    "        self.K = K\n",
    "        self.T = T\n",
    "        self.r = r\n",
    "        self.sigma = sigma\n",
    "\n",
    "    def compute_price(self):\n",
    "        ''' Returns option value. '''\n",
    "        d1 = ((log(self.S0 / self.K)\n",
    "            + (self.r + 0.5 * self.sigma ** 2) * self.T)\n",
    "            / (self.sigma * sqrt(self.T)))\n",
    "        d2 = ((log(self.S0 / self.K)\n",
    "            + (self.r - 0.5 * self.sigma ** 2) * self.T)\n",
    "            / (self.sigma * sqrt(self.T)))\n",
    "        value = (self.S0 * stats.norm.cdf(d1, 0.0, 1.0)\n",
    "            - self.K * exp(-self.r * self.T) * stats.norm.cdf(d2, 0.0, 1.0))\n",
    "        return value\n",
    "\n",
    "    def compute_delta(self):\n",
    "        ''' Returns option delta. '''\n",
    "        d1 = ((log(self.S0 / self.K)\n",
    "            + (self.r + 0.5 * self.sigma ** 2) * self.T)\n",
    "            / (self.sigma * sqrt(self.T)))\n",
    "\n",
    "        value = stats.norm.cdf(d1, 0.0, 1.0)\n",
    "        return value\n",
    "x=call_option(100,100,1,0.01,0.2)\n",
    "print(x.compute_price())\n",
    "print(x.compute_delta())"
   ]
  },
  {
   "cell_type": "markdown",
   "metadata": {},
   "source": [
    "###  Exercise #7\n",
    "\n",
    "Define a class which has at least two methods:\n",
    "\n",
    "getString: to get a string from console input\n",
    "\n",
    "printString: to print the string in upper case.\n",
    "\n",
    "Also please include simple test function to test the class methods.\n"
   ]
  },
  {
   "cell_type": "code",
   "execution_count": 6,
   "metadata": {
    "hideCode": true
   },
   "outputs": [
    {
     "name": "stdout",
     "output_type": "stream",
     "text": [
      "jicjcd\n",
      "JICJCD\n"
     ]
    }
   ],
   "source": [
    "class InputOutString(object):\n",
    "    def __init__(self):\n",
    "        self.s = \"\"\n",
    "\n",
    "    def getString(self):\n",
    "        self.s = input()\n",
    "\n",
    "    def printString(self):\n",
    "        print(self.s.upper())\n",
    "\n",
    "strObj = InputOutString()\n",
    "strObj.getString()\n",
    "strObj.printString()"
   ]
  }
 ],
 "metadata": {
  "celltoolbar": "Hide code",
  "kernelspec": {
   "display_name": "Python 3",
   "language": "python",
   "name": "python3"
  },
  "language_info": {
   "codemirror_mode": {
    "name": "ipython",
    "version": 3
   },
   "file_extension": ".py",
   "mimetype": "text/x-python",
   "name": "python",
   "nbconvert_exporter": "python",
   "pygments_lexer": "ipython3",
   "version": "3.7.1"
  }
 },
 "nbformat": 4,
 "nbformat_minor": 2
}
