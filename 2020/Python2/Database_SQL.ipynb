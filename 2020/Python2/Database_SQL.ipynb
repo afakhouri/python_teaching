{
 "cells": [
  {
   "cell_type": "markdown",
   "metadata": {},
   "source": [
    "# Database management with SQLite in Python"
   ]
  },
  {
   "cell_type": "markdown",
   "metadata": {},
   "source": [
    "## <u>1. Introduction</u>"
   ]
  },
  {
   "cell_type": "markdown",
   "metadata": {},
   "source": [
    "SQLite is a software library that provides a relational database management system. The \"lite\" in SQLite means light weight in terms of setup, database administration, and required resource. One specificity of SQLite is that it is embedded in the end program, and allows to create / edit / delete databases directly from Python."
   ]
  },
  {
   "cell_type": "code",
   "execution_count": 1,
   "metadata": {},
   "outputs": [],
   "source": [
    "import sqlite3"
   ]
  },
  {
   "cell_type": "markdown",
   "metadata": {},
   "source": [
    "To use sqlite3 module, you must first create a connection object that represents the database. The below command will open a connection to the SQLite database file. If no database is found, it will create a new database in the current working directory of python. In the below example, we are creating a databased named 'my_database.db' and it will be represented in python by the 'conn' object."
   ]
  },
  {
   "cell_type": "code",
   "execution_count": 2,
   "metadata": {},
   "outputs": [],
   "source": [
    "conn = sqlite3.connect('my_database20.db')"
   ]
  },
  {
   "cell_type": "markdown",
   "metadata": {},
   "source": [
    "Once we have created the connection, we need to create a 'cursor' object  in order to run SQL statements on the database:"
   ]
  },
  {
   "cell_type": "code",
   "execution_count": 3,
   "metadata": {},
   "outputs": [],
   "source": [
    "cursor = conn.cursor()"
   ]
  },
  {
   "cell_type": "markdown",
   "metadata": {},
   "source": [
    "## <u>2. Create a table</u>\n",
    "Cursor.execute allows to run an SQL statement. We will then use the SQL 'CREATE TABLE' command to create a new table. It requires a table name ('STOCKS' in our example) and then the columns of the table (ID, DATE, SYMBOL...) with for each column the data type (INT, TEXT, REAL...) and the option constraint (example: PRIMARY KEY)."
   ]
  },
  {
   "cell_type": "code",
   "execution_count": 4,
   "metadata": {},
   "outputs": [
    {
     "name": "stdout",
     "output_type": "stream",
     "text": [
      "Table created successfully\n"
     ]
    }
   ],
   "source": [
    "cursor.execute('''CREATE TABLE STOCKS\n",
    "             (ID INT PRIMARY KEY,\n",
    "             DATE TEXT, \n",
    "             SYMBOL TEXT, \n",
    "             QUANTITY REAL, \n",
    "             PRICE REAL)''')\n",
    "print(\"Table created successfully\")\n"
   ]
  },
  {
   "cell_type": "markdown",
   "metadata": {},
   "source": [
    "## <u>3. Insert content in a table</u>"
   ]
  },
  {
   "cell_type": "markdown",
   "metadata": {},
   "source": [
    "To insert data in the table, we run the SQL statement (Cursor.execute) 'INSERT INTO' which requires the name of the table ('STOCKS'), the keyword 'VALUES' and then the content of the new row to add in the table. a 'commit' statement is then required to save the record in the dataframe."
   ]
  },
  {
   "cell_type": "code",
   "execution_count": 122,
   "metadata": {},
   "outputs": [],
   "source": [
    "cursor.execute(\"INSERT INTO STOCKS VALUES (15, '2006-01-06','GOOG',100,35.14)\")\n",
    "conn.commit()"
   ]
  },
  {
   "cell_type": "markdown",
   "metadata": {},
   "source": [
    "To insert several rows at once, we can use the 'executemany' statement as below:"
   ]
  },
  {
   "cell_type": "code",
   "execution_count": 123,
   "metadata": {},
   "outputs": [
    {
     "data": {
      "text/plain": [
       "<sqlite3.Cursor at 0x26c3e0a5260>"
      ]
     },
     "execution_count": 123,
     "metadata": {},
     "output_type": "execute_result"
    }
   ],
   "source": [
    "purchases = [(230, '2006-03-28', 'IBM', 1000, 45.00),\n",
    "             (221, '2006-04-05', 'MSFT', 1000, 72.00),\n",
    "             (222, '2006-04-06', 'IBM', 500, 53.00),\n",
    "            ]\n",
    "cursor.executemany('INSERT INTO STOCKS VALUES (?,?,?,?,?)', purchases)\n"
   ]
  },
  {
   "cell_type": "markdown",
   "metadata": {},
   "source": [
    "## <u>4. Delete a table</u>"
   ]
  },
  {
   "cell_type": "markdown",
   "metadata": {},
   "source": [
    "Using the DROP command we can delete an existing table:"
   ]
  },
  {
   "cell_type": "code",
   "execution_count": 112,
   "metadata": {},
   "outputs": [],
   "source": [
    "cursor.execute(\"\"\"\n",
    "DROP TABLE STOCKS\n",
    "\"\"\")\n",
    "conn.commit()"
   ]
  },
  {
   "cell_type": "markdown",
   "metadata": {},
   "source": [
    "## <u>5. Retrieve data from a database</u>"
   ]
  },
  {
   "cell_type": "markdown",
   "metadata": {},
   "source": [
    "We can use the 'SELECT' method and iterate over the cursor object. In the below example we select all rows from the STOCKS table and print each row with a for loop."
   ]
  },
  {
   "cell_type": "code",
   "execution_count": 124,
   "metadata": {},
   "outputs": [
    {
     "name": "stdout",
     "output_type": "stream",
     "text": [
      "(15, '2006-01-06', 'GOOG', 100.0, 35.14)\n",
      "(230, '2006-03-28', 'IBM', 1000.0, 45.0)\n",
      "(221, '2006-04-05', 'MSFT', 1000.0, 72.0)\n",
      "(222, '2006-04-06', 'IBM', 500.0, 53.0)\n"
     ]
    }
   ],
   "source": [
    "for row in cursor.execute('SELECT * FROM STOCKS'):\n",
    "        print(row)"
   ]
  },
  {
   "cell_type": "markdown",
   "metadata": {},
   "source": [
    "An alternative is to run the statement SELECT statement and then use the 'fetchall' command which outputs a list of tuple ( each tuple is a row of the table)."
   ]
  },
  {
   "cell_type": "code",
   "execution_count": 125,
   "metadata": {},
   "outputs": [
    {
     "data": {
      "text/plain": [
       "[(15, '2006-01-06', 'GOOG', 100.0, 35.14),\n",
       " (230, '2006-03-28', 'IBM', 1000.0, 45.0),\n",
       " (221, '2006-04-05', 'MSFT', 1000.0, 72.0),\n",
       " (222, '2006-04-06', 'IBM', 500.0, 53.0)]"
      ]
     },
     "execution_count": 125,
     "metadata": {},
     "output_type": "execute_result"
    }
   ],
   "source": [
    "cursor.execute('SELECT * FROM STOCKS')\n",
    "cursor.fetchall()"
   ]
  },
  {
   "cell_type": "markdown",
   "metadata": {},
   "source": [
    "The SELECT statement can contains arguments in order for example to sort the table (ORDER BY),  filter only the rows containg a requested value, or display only some columns. Three examples below:"
   ]
  },
  {
   "cell_type": "code",
   "execution_count": 126,
   "metadata": {},
   "outputs": [
    {
     "data": {
      "text/plain": [
       "[(15, '2006-01-06', 'GOOG', 100.0, 35.14),\n",
       " (230, '2006-03-28', 'IBM', 1000.0, 45.0),\n",
       " (222, '2006-04-06', 'IBM', 500.0, 53.0),\n",
       " (221, '2006-04-05', 'MSFT', 1000.0, 72.0)]"
      ]
     },
     "execution_count": 126,
     "metadata": {},
     "output_type": "execute_result"
    }
   ],
   "source": [
    "cursor.execute('SELECT * FROM STOCKS ORDER BY price') # sort by PRICE\n",
    "cursor.fetchall()"
   ]
  },
  {
   "cell_type": "code",
   "execution_count": 127,
   "metadata": {},
   "outputs": [
    {
     "data": {
      "text/plain": [
       "[(230, '2006-03-28', 'IBM', 1000.0, 45.0),\n",
       " (222, '2006-04-06', 'IBM', 500.0, 53.0)]"
      ]
     },
     "execution_count": 127,
     "metadata": {},
     "output_type": "execute_result"
    }
   ],
   "source": [
    "t = ('IBM',)\n",
    "cursor.execute('SELECT * FROM STOCKS WHERE symbol=?', t) # Only filter the STOCKS table if symbol = IBM\n",
    "cursor.fetchall()"
   ]
  },
  {
   "cell_type": "code",
   "execution_count": 128,
   "metadata": {},
   "outputs": [
    {
     "data": {
      "text/plain": [
       "[('IBM', 1000.0), ('IBM', 500.0)]"
      ]
     },
     "execution_count": 128,
     "metadata": {},
     "output_type": "execute_result"
    }
   ],
   "source": [
    "cursor.execute('SELECT SYMBOL, QUANTITY FROM STOCKS WHERE symbol=?', t) # Only keep the SYMBOL/QUANTITY columns\n",
    "cursor.fetchall()"
   ]
  },
  {
   "cell_type": "markdown",
   "metadata": {},
   "source": [
    "## <u>6. Update operation</u>\n",
    "The following Python code shows how to update any record and then display the updated records using the UPDATE statement"
   ]
  },
  {
   "cell_type": "code",
   "execution_count": 129,
   "metadata": {},
   "outputs": [
    {
     "data": {
      "text/plain": [
       "[(15, '2006-01-06', 'GOOG', 100.0, 35.14),\n",
       " (230, '2006-03-28', 'IBM', 1000.0, 45.0),\n",
       " (221, '2006-04-05', 'MSFT', 1000.0, 72.0),\n",
       " (222, '2006-04-06', 'IBM', 500.0, 53.0)]"
      ]
     },
     "execution_count": 129,
     "metadata": {},
     "output_type": "execute_result"
    }
   ],
   "source": [
    "cursor.execute(\"UPDATE STOCKS set PRICE = 999.00 where ID = 20\")\n",
    "cursor.execute('SELECT * FROM STOCKS')\n",
    "cursor.fetchall()"
   ]
  },
  {
   "cell_type": "markdown",
   "metadata": {},
   "source": [
    "## <u>7. Delete operation</u>"
   ]
  },
  {
   "cell_type": "markdown",
   "metadata": {},
   "source": [
    "Similarly, we can use a DELETE statement to remove rows from the table. In the example below, we remove from the table STOCKS the row with ID=21."
   ]
  },
  {
   "cell_type": "code",
   "execution_count": 130,
   "metadata": {},
   "outputs": [
    {
     "data": {
      "text/plain": [
       "[(15, '2006-01-06', 'GOOG', 100.0, 35.14),\n",
       " (230, '2006-03-28', 'IBM', 1000.0, 45.0),\n",
       " (221, '2006-04-05', 'MSFT', 1000.0, 72.0),\n",
       " (222, '2006-04-06', 'IBM', 500.0, 53.0)]"
      ]
     },
     "execution_count": 130,
     "metadata": {},
     "output_type": "execute_result"
    }
   ],
   "source": [
    "cursor.execute(\"DELETE from STOCKS where ID = 21\")\n",
    "conn.commit()\n",
    "cursor.execute('SELECT * FROM STOCKS')\n",
    "cursor.fetchall()"
   ]
  },
  {
   "cell_type": "markdown",
   "metadata": {},
   "source": [
    "## <u>8. Close the database connection</u>"
   ]
  },
  {
   "cell_type": "code",
   "execution_count": 131,
   "metadata": {},
   "outputs": [],
   "source": [
    "conn.close()"
   ]
  }
 ],
 "metadata": {
  "kernelspec": {
   "display_name": "Python 3",
   "language": "python",
   "name": "python3"
  },
  "language_info": {
   "codemirror_mode": {
    "name": "ipython",
    "version": 3
   },
   "file_extension": ".py",
   "mimetype": "text/x-python",
   "name": "python",
   "nbconvert_exporter": "python",
   "pygments_lexer": "ipython3",
   "version": "3.7.1"
  }
 },
 "nbformat": 4,
 "nbformat_minor": 2
}
