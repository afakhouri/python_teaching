{
 "cells": [
  {
   "cell_type": "markdown",
   "metadata": {},
   "source": [
    "# Object Oriented Programming (OOP) with Python"
   ]
  },
  {
   "cell_type": "markdown",
   "metadata": {},
   "source": [
    "## <u>1. Introduction</u>"
   ]
  },
  {
   "cell_type": "markdown",
   "metadata": {},
   "source": [
    "This chapter explores the concept of Python class - a coding structure and device\n",
    "used to implement new kinds of objects in Python that support inheritance. Classes are\n",
    "Python’s main object-oriented programming (OOP) tool."
   ]
  },
  {
   "cell_type": "markdown",
   "metadata": {},
   "source": [
    "We will here introduce the below object oriented concepts:\n",
    "- Python Classes\n",
    "- Object Instances\n",
    "- Defining and Working with Methods\n",
    "- OOP Inheritance"
   ]
  },
  {
   "cell_type": "markdown",
   "metadata": {},
   "source": [
    "Object orient programming provides a mean to structure the code by creating individual objects which have their own properties and behaviors. It is a way of modelling real word things.\n",
    "\n",
    "Examples:\n",
    "- An individual has a name, an address, an age which would be seen as its properties (or 'attributes'). He/She is able to walk, talk, run,  which represent the possible actions (or 'methods')\n",
    "- A portfolio has a name, a list of deals, a pricing configuration, a currency (the attributes). One could imagine as actions on a portfolio the execution of a pricing or the computation of a VaR ('methods')"
   ]
  },
  {
   "cell_type": "markdown",
   "metadata": {},
   "source": [
    "## 2. <u>Difference between Procedure Oriented and Object oriented Programming</u>"
   ]
  },
  {
   "cell_type": "markdown",
   "metadata": {},
   "source": [
    "- Procedural programming creates a step by step program that guides the application through a sequence of instructions. Each instruction is executed in order.\n",
    "- Procedural programming focuses on the ideal that all algorithms are executed with functions and data that the programmer has access to and is able to change.\n",
    "- OOP is much more similar to the way the real world works: each program is made up of many entities, each entity is an object.\n"
   ]
  },
  {
   "cell_type": "markdown",
   "metadata": {},
   "source": [
    "## 3. <u>Advantages of OOP</u>\n",
    "- Ability to simulate real world events more effectively\n",
    "- Code is re-usable which results in less code has to be written\n",
    "- More appropriate to create GUI (graphical user interface)\n",
    "- Programmers are able to produce faster, more accurate, and better written applications."
   ]
  },
  {
   "cell_type": "markdown",
   "metadata": {},
   "source": [
    "## 4. <u>Fundaments concepts of OOP in Python</u>\n",
    "The 4 principles of object orientation are:\n",
    "- Encapsulation\n",
    "- Data abstraction\n",
    "- Inheritance\n",
    "- Polymorphism"
   ]
  },
  {
   "cell_type": "markdown",
   "metadata": {},
   "source": [
    "## 5. <u>What is a Class ? What is an Instance ?</u>"
   ]
  },
  {
   "cell_type": "markdown",
   "metadata": {},
   "source": [
    "- A class is a special data type which defines how to build a certain kind of object.\n",
    "- The class also stores some data items that are shared by all the instances of this class.\n",
    "- An instance is the object created which follows the definition given inside the class.\n",
    "-In Python, classes are created with a new statement: the class. Objects defined with classes can look a lot like be very similar to built-in python types. In fact, classes can be seen as packages of functions that use and process built-in object types. Classes, though, are designed to create and manage new objects, and support inheritance and composition."
   ]
  },
  {
   "cell_type": "markdown",
   "metadata": {},
   "source": [
    "## 6. <u>Methods in classes</u>\n",
    "- Methods are the possible actions which can be executed by the object. \n",
    "- In Python the methods are declared by including function definition within the scope of the class block.\n",
    "- Each method contains a special first argument \"self\" in it definition which get bound to the calling instance.\n",
    "- There is usually a special method called \"___ init ___\" in most classes"
   ]
  },
  {
   "cell_type": "markdown",
   "metadata": {},
   "source": [
    "## 7. <u>A simple class: Teacher</u>"
   ]
  },
  {
   "cell_type": "code",
   "execution_count": 2,
   "metadata": {},
   "outputs": [],
   "source": [
    "class Teacher:\n",
    "    '''A class representing a teacher'''\n",
    "    def __init__(self, n, a):\n",
    "        self.full_name=n\n",
    "        self.age=a\n",
    "    def get_age(self): #Method\n",
    "        return self.age\n"
   ]
  },
  {
   "cell_type": "markdown",
   "metadata": {},
   "source": [
    "#### init\n",
    "__ init __ is the defaul constructor. It serves as a constructor for the class, does the initialization work. It can take any number of arguments. However its first argument needs to be \"self\".\n",
    "\n",
    "#### Self\n",
    "The first argument of every method is a reference to the current instance of the class. By convention this argument is named \"self\". In init, self refers t the object currently being created. In other class methodm it refers to the instance whose method was called. You  do not give a value to this parameter (self) when you call the method, Python will provide it."
   ]
  },
  {
   "cell_type": "markdown",
   "metadata": {},
   "source": [
    "#### Defining a method\n",
    " (code needs to be inside a classe definition)"
   ]
  },
  {
   "cell_type": "code",
   "execution_count": null,
   "metadata": {},
   "outputs": [],
   "source": [
    "def set_age(self, num): #Method\n",
    "    self.age=num        "
   ]
  },
  {
   "cell_type": "markdown",
   "metadata": {},
   "source": [
    "#### Calling a method"
   ]
  },
  {
   "cell_type": "code",
   "execution_count": null,
   "metadata": {},
   "outputs": [],
   "source": [
    "x.set_age(25)"
   ]
  },
  {
   "cell_type": "markdown",
   "metadata": {},
   "source": [
    "#### Syntax for accessing attributes and methods"
   ]
  },
  {
   "cell_type": "code",
   "execution_count": 9,
   "metadata": {},
   "outputs": [],
   "source": [
    "t=Teacher(\"Jean-Damien\", 33) #new instance"
   ]
  },
  {
   "cell_type": "code",
   "execution_count": 10,
   "metadata": {},
   "outputs": [
    {
     "data": {
      "text/plain": [
       "'Jean-Damien'"
      ]
     },
     "execution_count": 10,
     "metadata": {},
     "output_type": "execute_result"
    }
   ],
   "source": [
    "t.full_name #Acces an attribute"
   ]
  },
  {
   "cell_type": "code",
   "execution_count": 8,
   "metadata": {},
   "outputs": [
    {
     "data": {
      "text/plain": [
       "33"
      ]
     },
     "execution_count": 8,
     "metadata": {},
     "output_type": "execute_result"
    }
   ],
   "source": [
    "t.get_age() #Acces a method"
   ]
  },
  {
   "cell_type": "markdown",
   "metadata": {},
   "source": [
    "## 8. <u>Encapsulation</u>\n",
    "- An important advantage of OOP consists in encapsulation of data. OOP widely relies on encapsulation.\n",
    "- Encapsulation can be understood as a synonym of \"abstraction\" or \"data hiding\".\n",
    "- Generally speaking, encapsulation is the mechanism for restricting access to some of an object's components, which means that the internal representation of an object can't be seen from the outside of the object definition.\n",
    "- Access to this data is typically only achieves through special methods: \"Getters\" or \"Setters\".\n",
    "- By allowing only access to get() and set() methods, we make sure that the internal data canno't be accidentally corrupted and set into an invalid state.\n",
    "\n",
    "#### Public, protected and private data\n",
    "- If an identifier does not start with an underscore \"_\" it can be accessed from the outside, i.e. the value can be read and changed.\n",
    "- Data can be protected by making members private or protected. Instance variable names starting with 2 underscores characters can't be accessed from outside the class (at least not directly)\n",
    "- If an identifier is only preceded by 1 underscore character, it is a protected member. Protected members can be access like public members from outside the class."
   ]
  },
  {
   "cell_type": "code",
   "execution_count": 14,
   "metadata": {},
   "outputs": [],
   "source": [
    "class Encapsulation:\n",
    "    def __init__(self, a,b,c):\n",
    "        self.public=a\n",
    "        self._protected=b\n",
    "        self.__private=c\n",
    "x=Encapsulation(1,2,3) \n"
   ]
  },
  {
   "cell_type": "code",
   "execution_count": 17,
   "metadata": {},
   "outputs": [
    {
     "name": "stdout",
     "output_type": "stream",
     "text": [
      "1\n",
      "10\n"
     ]
    }
   ],
   "source": [
    "print(x.public)\n",
    "x.public=10\n",
    "print(x.public)"
   ]
  },
  {
   "cell_type": "code",
   "execution_count": 19,
   "metadata": {},
   "outputs": [
    {
     "name": "stdout",
     "output_type": "stream",
     "text": [
      "2\n",
      "10\n"
     ]
    }
   ],
   "source": [
    "print(x._protected)\n",
    "x._protected=10\n",
    "print(x._protected)"
   ]
  },
  {
   "cell_type": "code",
   "execution_count": 21,
   "metadata": {},
   "outputs": [
    {
     "ename": "AttributeError",
     "evalue": "'Encapsulation' object has no attribute '__private'",
     "output_type": "error",
     "traceback": [
      "\u001b[1;31m---------------------------------------------------------------------------\u001b[0m",
      "\u001b[1;31mAttributeError\u001b[0m                            Traceback (most recent call last)",
      "\u001b[1;32m<ipython-input-21-99c7fd750971>\u001b[0m in \u001b[0;36m<module>\u001b[1;34m\u001b[0m\n\u001b[1;32m----> 1\u001b[1;33m \u001b[0mprint\u001b[0m\u001b[1;33m(\u001b[0m\u001b[0mx\u001b[0m\u001b[1;33m.\u001b[0m\u001b[0m__private\u001b[0m\u001b[1;33m)\u001b[0m\u001b[1;33m\u001b[0m\u001b[1;33m\u001b[0m\u001b[0m\n\u001b[0m",
      "\u001b[1;31mAttributeError\u001b[0m: 'Encapsulation' object has no attribute '__private'"
     ]
    }
   ],
   "source": [
    "print(x.__private)"
   ]
  },
  {
   "cell_type": "markdown",
   "metadata": {},
   "source": [
    "| Name | Notation   | Behavior   |\n",
    "|------|------|------|\n",
    "|   name  | Public| Can be accessed from inside or outside|\n",
    "|   _name  | Protected| Like a public member but should not be directly accessed from the outside|\n",
    "|   __name  | Private| Can't be seen and accessed from the outside|"
   ]
  },
  {
   "cell_type": "markdown",
   "metadata": {},
   "source": [
    "## 9. <u>Inheritance</u>"
   ]
  },
  {
   "cell_type": "markdown",
   "metadata": {},
   "source": [
    "- Inheritance allows us to define a class that inherits all the methods and properties from another class.\n",
    "- Parent class is the class being inherited from, also called base class.\n",
    "- Child class is the class that inherits from another class, also called derived class.\n",
    "- Derived classes inherit features from the base class, adding features to it. This results into re-usability of the code."
   ]
  },
  {
   "cell_type": "code",
   "execution_count": 26,
   "metadata": {},
   "outputs": [
    {
     "name": "stdout",
     "output_type": "stream",
     "text": [
      "JD V\n"
     ]
    }
   ],
   "source": [
    "class BaseClass:\n",
    "    def __init__(self, fname, lname):\n",
    "        self.firstname = fname\n",
    "        self.lastname = lname\n",
    "\n",
    "    def printname(self):\n",
    "        print(self.firstname, self.lastname)\n",
    "        \n",
    "class ChildClass(BaseClass):\n",
    "    def __init__(self, fname, lname):\n",
    "        BaseClass.__init__(self, fname, lname)\n",
    "        self.graduationyear = 2020\n",
    "        \n",
    "x=ChildClass(\"JD\", \"V\")\n",
    "x.printname()"
   ]
  },
  {
   "cell_type": "code",
   "execution_count": 28,
   "metadata": {},
   "outputs": [
    {
     "data": {
      "text/plain": [
       "2020"
      ]
     },
     "execution_count": 28,
     "metadata": {},
     "output_type": "execute_result"
    }
   ],
   "source": [
    "x.graduationyear"
   ]
  },
  {
   "cell_type": "markdown",
   "metadata": {},
   "source": [
    "While designing a inheritance concept, following points are to be kept in mind:\n",
    "- A subtype never implements less functionalities that the paren type\n",
    "- Inheritance should never be more than two levels deep\n",
    "- We use inheritance when we want to avoid redundant code"
   ]
  },
  {
   "cell_type": "markdown",
   "metadata": {},
   "source": [
    "## 10. <u>Polymorphism</u>\n",
    "- Generally speaking, polymorphism means that a method or function is able to cope with different types of input.\n",
    "- In OOP, Polymorphism is the characteristic of being able to assign a different meaning to a particular symbol or operator in different contexts specifically to allow an entity such as a variable, a function or an object to have more than one form.\n",
    "\n",
    "There are two kinds of Polymorphism:\n",
    "#### Overloading\n",
    "Two or more methods with different signatures.\n",
    "\n",
    "#### Overriding\n",
    "Replacing an inherited method with another having the same signature.\n",
    "\n"
   ]
  },
  {
   "cell_type": "markdown",
   "metadata": {},
   "source": [
    "#### Example of built-in polymorphic function"
   ]
  },
  {
   "cell_type": "code",
   "execution_count": 30,
   "metadata": {},
   "outputs": [
    {
     "name": "stdout",
     "output_type": "stream",
     "text": [
      "5\n",
      "3\n"
     ]
    }
   ],
   "source": [
    "# len() being used for a string \n",
    "print(len(\"geeks\")) \n",
    "  \n",
    "# len() being used for a list \n",
    "print(len([10, 20, 30])) "
   ]
  },
  {
   "cell_type": "markdown",
   "metadata": {},
   "source": [
    "#### Polymorphism with class methods"
   ]
  },
  {
   "cell_type": "code",
   "execution_count": 33,
   "metadata": {},
   "outputs": [
    {
     "name": "stdout",
     "output_type": "stream",
     "text": [
      "Paris is the capital of France\n"
     ]
    }
   ],
   "source": [
    "class France(): \n",
    "    def capital(self): \n",
    "        print(\"Paris is the capital of France\") \n",
    "  \n",
    "  \n",
    "class USA(): \n",
    "    def capital(self): \n",
    "        print(\"Washington, D.C. is the capital of USA.\") \n",
    " \n",
    "obj_fr = France() \n",
    "obj_usa = USA() \n"
   ]
  },
  {
   "cell_type": "code",
   "execution_count": 34,
   "metadata": {},
   "outputs": [
    {
     "name": "stdout",
     "output_type": "stream",
     "text": [
      "Paris is the capital of France\n",
      "Washington, D.C. is the capital of USA.\n"
     ]
    }
   ],
   "source": [
    "obj_fr.capital()\n",
    "obj_usa.capital()"
   ]
  },
  {
   "cell_type": "markdown",
   "metadata": {},
   "source": [
    "## 11. <u>Operator overloading</u>\n",
    "- Python operators work like built-in classes\n",
    "- But the same operator behaves differently with different types. For example, the + operator can perform an arithmetic additional on two numbers but can also merge two lists, or concatenate two strings. This feature in Python, which allows the same operator to have different meaning according to the context is called \"operator overloading\""
   ]
  },
  {
   "cell_type": "markdown",
   "metadata": {},
   "source": [
    "## 12. <u>Conclusion - Power of OOP</u>\n",
    "The main features of OOP which make it a power way of conding are: \n",
    "- allows to bundle together objects that share common attributes and procedures that operate on those attributes\n",
    "- use abstraction to make a distinction between how to implement an object vs how to use the object\n",
    "- build layers of object abstractions that inherit behaviors from other classes of objects\n",
    "- allows to create our own classes of objects on top of Python’s basic classes\n"
   ]
  }
 ],
 "metadata": {
  "kernelspec": {
   "display_name": "Python 3",
   "language": "python",
   "name": "python3"
  },
  "language_info": {
   "codemirror_mode": {
    "name": "ipython",
    "version": 3
   },
   "file_extension": ".py",
   "mimetype": "text/x-python",
   "name": "python",
   "nbconvert_exporter": "python",
   "pygments_lexer": "ipython3",
   "version": "3.7.1"
  }
 },
 "nbformat": 4,
 "nbformat_minor": 2
}
